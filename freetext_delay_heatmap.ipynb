{
 "cells": [
  {
   "cell_type": "code",
   "execution_count": 1,
   "metadata": {},
   "outputs": [],
   "source": [
    "import pandas as pd\n",
    "import numpy as np\n",
    "from chunk_utils import *\n",
    "import matplotlib\n",
    "import matplotlib.pyplot as plt\n",
    "from itertools import product\n",
    "from functools import reduce\n",
    "import seaborn as sns\n",
    "from util_new import chars_alp, chr2code\n",
    "\n",
    "data_dir = './data/dw_freetext/'\n",
    "alp_kcodes = list(map(lambda x: chr2code(x), chars_alp))\n",
    "all_keypairs = [''.join(x) for x in product(chars_alp, chars_alp)]"
   ]
  },
  {
   "cell_type": "code",
   "execution_count": 2,
   "metadata": {},
   "outputs": [
    {
     "data": {
      "text/html": [
       "<div>\n",
       "<style scoped>\n",
       "    .dataframe tbody tr th:only-of-type {\n",
       "        vertical-align: middle;\n",
       "    }\n",
       "\n",
       "    .dataframe tbody tr th {\n",
       "        vertical-align: top;\n",
       "    }\n",
       "\n",
       "    .dataframe thead th {\n",
       "        text-align: right;\n",
       "    }\n",
       "</style>\n",
       "<table border=\"1\" class=\"dataframe\">\n",
       "  <thead>\n",
       "    <tr style=\"text-align: right;\">\n",
       "      <th></th>\n",
       "      <th>UserName</th>\n",
       "      <th>Task</th>\n",
       "      <th>ReviewMeta</th>\n",
       "    </tr>\n",
       "  </thead>\n",
       "  <tbody>\n",
       "    <tr>\n",
       "      <th>1</th>\n",
       "      <td>A10E8QHPV30BAD</td>\n",
       "      <td>Copy_2</td>\n",
       "      <td>0 MouseUp 0 0;874 KeyDown 16;946 KeyDown 73;10...</td>\n",
       "    </tr>\n",
       "    <tr>\n",
       "      <th>5</th>\n",
       "      <td>A11T1LGIWPM9Z1</td>\n",
       "      <td>Copy_2</td>\n",
       "      <td>0 MouseUp 0 0;784 KeyDown 16;863 KeyDown 84;92...</td>\n",
       "    </tr>\n",
       "    <tr>\n",
       "      <th>9</th>\n",
       "      <td>A145PJ769UGAID</td>\n",
       "      <td>Copy_2</td>\n",
       "      <td>0 MouseUp 0 0;1517 KeyDown 16;1517 KeyDown 87;...</td>\n",
       "    </tr>\n",
       "    <tr>\n",
       "      <th>13</th>\n",
       "      <td>A161NZP385W1TX</td>\n",
       "      <td>Copy_2</td>\n",
       "      <td>0 MouseUp 0 0;1621 KeyDown 16;1734 KeyDown 84;...</td>\n",
       "    </tr>\n",
       "    <tr>\n",
       "      <th>17</th>\n",
       "      <td>A168RQT8B18FH</td>\n",
       "      <td>Copy_2</td>\n",
       "      <td>0 MouseUp 0 0;2112 KeyDown 16;2311 KeyDown 73;...</td>\n",
       "    </tr>\n",
       "    <tr>\n",
       "      <th>21</th>\n",
       "      <td>A16HFBY06FP1RJ</td>\n",
       "      <td>Copy_2</td>\n",
       "      <td>0 MouseUp 0 0;317 KeyDown 16;543 KeyDown 71;62...</td>\n",
       "    </tr>\n",
       "    <tr>\n",
       "      <th>25</th>\n",
       "      <td>A191P01GHJRPWO</td>\n",
       "      <td>Copy_2</td>\n",
       "      <td>0 MouseUp 0 0;7007 KeyDown 16;7018 KeyDown 73;...</td>\n",
       "    </tr>\n",
       "  </tbody>\n",
       "</table>\n",
       "</div>"
      ],
      "text/plain": [
       "          UserName    Task                                         ReviewMeta\n",
       "1   A10E8QHPV30BAD  Copy_2  0 MouseUp 0 0;874 KeyDown 16;946 KeyDown 73;10...\n",
       "5   A11T1LGIWPM9Z1  Copy_2  0 MouseUp 0 0;784 KeyDown 16;863 KeyDown 84;92...\n",
       "9   A145PJ769UGAID  Copy_2  0 MouseUp 0 0;1517 KeyDown 16;1517 KeyDown 87;...\n",
       "13  A161NZP385W1TX  Copy_2  0 MouseUp 0 0;1621 KeyDown 16;1734 KeyDown 84;...\n",
       "17   A168RQT8B18FH  Copy_2  0 MouseUp 0 0;2112 KeyDown 16;2311 KeyDown 73;...\n",
       "21  A16HFBY06FP1RJ  Copy_2  0 MouseUp 0 0;317 KeyDown 16;543 KeyDown 71;62...\n",
       "25  A191P01GHJRPWO  Copy_2  0 MouseUp 0 0;7007 KeyDown 16;7018 KeyDown 73;..."
      ]
     },
     "execution_count": 2,
     "metadata": {},
     "output_type": "execute_result"
    }
   ],
   "source": [
    "df = pd.read_csv(data_dir+'GunControl_400.csv', delimiter='\\t', usecols=[0,6,10])\n",
    "df_filtered = df[df['Task']=='Copy_2']\n",
    "# \"Copy_2\" column = when they're stating true opinion, repeating (transcribing) the essay already written\n",
    "df_filtered.head(7)"
   ]
  },
  {
   "cell_type": "code",
   "execution_count": 3,
   "metadata": {},
   "outputs": [],
   "source": [
    "key_delay_dict = {ch:[] for ch in all_keypairs}\n",
    "\n",
    "for indx in range(df_filtered.shape[0]):\n",
    "    onerawkd = df_filtered['ReviewMeta'].iloc[20]\n",
    "    keys = parsekevents(parsekdata(onerawkd))\n",
    "    keypairs_filt = filter(lambda x: x[0].kcode in alp_kcodes and x[1].kcode in alp_kcodes, zip(keys, keys[1:]))\n",
    "    key_delays = list(map(lambda x: ((x[0].character+x[1].character), x[1].press_time - x[0].press_time), keypairs_filt))\n",
    "    for pair, delay in key_delays:\n",
    "        key_delay_dict[pair].append(delay)"
   ]
  },
  {
   "cell_type": "code",
   "execution_count": 4,
   "metadata": {},
   "outputs": [],
   "source": [
    "#maxdelay = reduce(max, reduce(max, key_delay_dict.values()))\n",
    "key_delay_frac = {kpair:1 / reduce(lambda x, y: (x+y)/2, delays) for kpair, delays in key_delay_dict.items() if len(delays)}"
   ]
  },
  {
   "cell_type": "code",
   "execution_count": 25,
   "metadata": {},
   "outputs": [],
   "source": [
    "# prepare for becoming square matrix\n",
    "for kpair in all_keypairs:\n",
    "    if not kpair in key_delay_frac:\n",
    "        key_delay_frac[kpair] = 0\n",
    "        \n",
    "delay_matrix = {}\n",
    "for k1 in chars_alp:\n",
    "    delay_matrix[k1] = {}\n",
    "    for k2 in chars_alp:\n",
    "        delay_matrix[k1][k2] = key_delay_frac[k1+k2]\n",
    "        \n",
    "delay_df = pd.DataFrame(delay_matrix).transpose()"
   ]
  },
  {
   "cell_type": "code",
   "execution_count": 27,
   "metadata": {},
   "outputs": [],
   "source": [
    "ddf2 = delay_df.sort_values(list(chars_alp), axis=0, ascending=False)\n",
    "ddf3 = ddf2.sort_values(list(chars_alp), axis=1, ascending=False)\n",
    "#ddf4 = ddf3.sort_values(list(chars_alp), axis=0, ascending=False)"
   ]
  },
  {
   "cell_type": "code",
   "execution_count": 36,
   "metadata": {},
   "outputs": [
    {
     "data": {
      "text/plain": [
       "Text(0.5,1,'original')"
      ]
     },
     "execution_count": 36,
     "metadata": {},
     "output_type": "execute_result"
    },
    {
     "data": {
      "image/png": "[encoded data removed]",
      "text/plain": [
       "<Figure size 864x576 with 2 Axes>"
      ]
     },
     "metadata": {},
     "output_type": "display_data"
    }
   ],
   "source": [
    "matplotlib.rcParams['figure.figsize'] = 12,8\n",
    "font = {'size': 12}\n",
    "matplotlib.rc('font', **font)\n",
    "\n",
    "fig = plt.figure()\n",
    "ax1 = fig.add_subplot(111)\n",
    "#ax2 = fig.add_subplot(122)\n",
    "\n",
    "sns.heatmap(delay_df, ax=ax1)\n",
    "ax1.set_xlabel('what')\n",
    "ax1.set_ylabel('what')\n",
    "ax1.set_title('original')"
   ]
  },
  {
   "cell_type": "code",
   "execution_count": null,
   "metadata": {},
   "outputs": [],
   "source": []
  }
 ],
 "metadata": {
  "kernelspec": {
   "display_name": "Python 3",
   "language": "python",
   "name": "python3"
  },
  "language_info": {
   "codemirror_mode": {
    "name": "ipython",
    "version": 3
   },
   "file_extension": ".py",
   "mimetype": "text/x-python",
   "name": "python",
   "nbconvert_exporter": "python",
   "pygments_lexer": "ipython3",
   "version": "3.6.6"
  }
 },
 "nbformat": 4,
 "nbformat_minor": 2
}
