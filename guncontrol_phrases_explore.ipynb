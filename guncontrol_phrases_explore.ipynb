{
 "cells": [
  {
   "cell_type": "code",
   "execution_count": 1,
   "metadata": {},
   "outputs": [],
   "source": [
    "#from parse_kd import *\n",
    "import re\n",
    "import pandas as pd\n",
    "import numpy as np\n",
    "from chunk_utils import *\n",
    "import matplotlib\n",
    "import matplotlib.pyplot as plt\n",
    "from pyclustering.cluster.xmeans import xmeans\n",
    "data_dir = './data/dw_freetext/'"
   ]
  },
  {
   "cell_type": "code",
   "execution_count": 2,
   "metadata": {},
   "outputs": [],
   "source": [
    "%load_ext autoreload\n",
    "%autoreload 2\n",
    "matplotlib.rcParams['figure.figsize'] = 8,5"
   ]
  },
  {
   "cell_type": "code",
   "execution_count": 3,
   "metadata": {},
   "outputs": [
    {
     "data": {
      "text/html": [
       "<div>\n",
       "<style scoped>\n",
       "    .dataframe tbody tr th:only-of-type {\n",
       "        vertical-align: middle;\n",
       "    }\n",
       "\n",
       "    .dataframe tbody tr th {\n",
       "        vertical-align: top;\n",
       "    }\n",
       "\n",
       "    .dataframe thead th {\n",
       "        text-align: right;\n",
       "    }\n",
       "</style>\n",
       "<table border=\"1\" class=\"dataframe\">\n",
       "  <thead>\n",
       "    <tr style=\"text-align: right;\">\n",
       "      <th></th>\n",
       "      <th>UserName</th>\n",
       "      <th>Task</th>\n",
       "      <th>ReviewMeta</th>\n",
       "    </tr>\n",
       "  </thead>\n",
       "  <tbody>\n",
       "    <tr>\n",
       "      <th>1</th>\n",
       "      <td>A10E8QHPV30BAD</td>\n",
       "      <td>Copy_2</td>\n",
       "      <td>0 MouseUp 0 0;874 KeyDown 16;946 KeyDown 73;10...</td>\n",
       "    </tr>\n",
       "    <tr>\n",
       "      <th>5</th>\n",
       "      <td>A11T1LGIWPM9Z1</td>\n",
       "      <td>Copy_2</td>\n",
       "      <td>0 MouseUp 0 0;784 KeyDown 16;863 KeyDown 84;92...</td>\n",
       "    </tr>\n",
       "    <tr>\n",
       "      <th>9</th>\n",
       "      <td>A145PJ769UGAID</td>\n",
       "      <td>Copy_2</td>\n",
       "      <td>0 MouseUp 0 0;1517 KeyDown 16;1517 KeyDown 87;...</td>\n",
       "    </tr>\n",
       "    <tr>\n",
       "      <th>13</th>\n",
       "      <td>A161NZP385W1TX</td>\n",
       "      <td>Copy_2</td>\n",
       "      <td>0 MouseUp 0 0;1621 KeyDown 16;1734 KeyDown 84;...</td>\n",
       "    </tr>\n",
       "    <tr>\n",
       "      <th>17</th>\n",
       "      <td>A168RQT8B18FH</td>\n",
       "      <td>Copy_2</td>\n",
       "      <td>0 MouseUp 0 0;2112 KeyDown 16;2311 KeyDown 73;...</td>\n",
       "    </tr>\n",
       "    <tr>\n",
       "      <th>21</th>\n",
       "      <td>A16HFBY06FP1RJ</td>\n",
       "      <td>Copy_2</td>\n",
       "      <td>0 MouseUp 0 0;317 KeyDown 16;543 KeyDown 71;62...</td>\n",
       "    </tr>\n",
       "    <tr>\n",
       "      <th>25</th>\n",
       "      <td>A191P01GHJRPWO</td>\n",
       "      <td>Copy_2</td>\n",
       "      <td>0 MouseUp 0 0;7007 KeyDown 16;7018 KeyDown 73;...</td>\n",
       "    </tr>\n",
       "  </tbody>\n",
       "</table>\n",
       "</div>"
      ],
      "text/plain": [
       "          UserName    Task                                         ReviewMeta\n",
       "1   A10E8QHPV30BAD  Copy_2  0 MouseUp 0 0;874 KeyDown 16;946 KeyDown 73;10...\n",
       "5   A11T1LGIWPM9Z1  Copy_2  0 MouseUp 0 0;784 KeyDown 16;863 KeyDown 84;92...\n",
       "9   A145PJ769UGAID  Copy_2  0 MouseUp 0 0;1517 KeyDown 16;1517 KeyDown 87;...\n",
       "13  A161NZP385W1TX  Copy_2  0 MouseUp 0 0;1621 KeyDown 16;1734 KeyDown 84;...\n",
       "17   A168RQT8B18FH  Copy_2  0 MouseUp 0 0;2112 KeyDown 16;2311 KeyDown 73;...\n",
       "21  A16HFBY06FP1RJ  Copy_2  0 MouseUp 0 0;317 KeyDown 16;543 KeyDown 71;62...\n",
       "25  A191P01GHJRPWO  Copy_2  0 MouseUp 0 0;7007 KeyDown 16;7018 KeyDown 73;..."
      ]
     },
     "execution_count": 3,
     "metadata": {},
     "output_type": "execute_result"
    }
   ],
   "source": [
    "df = pd.read_csv(data_dir+'GunControl_400.csv', delimiter='\\t', usecols=[0,6,10])\n",
    "df_filtered = df[df['Task']=='Copy_2']\n",
    "# \"Copy_2\" column = when they're stating true opinion, repeating (transcribing) the essay already written\n",
    "df_filtered.head(7)"
   ]
  },
  {
   "cell_type": "code",
   "execution_count": 4,
   "metadata": {},
   "outputs": [],
   "source": [
    "phrases = [\"criminal\", \"constitution\", \"amendment\", \"fundamental\", \"right\", \"gun\", \"control\", \n",
    "           \"safe\", \"citizen\", \"kill\", \"violence\", \"strongly\", \"think\", \"feel\", \n",
    "           \"legal\", \"reason\", \"fear\", \"oppose\", \"government\", \"power\", \n",
    "           \"freedom\", \"people\"\n",
    "          ]\n",
    "\n",
    "# dict of dicts -- examining at user level\n",
    "userwise_delays = {}\n",
    "# dict of lists --- examining at population level (throwing away user information)\n",
    "phrasewise_delays = {x:[] for x in phrases}\n",
    "\n",
    "#for textIndex in range(df_filtered.shape[0]):\n",
    "for textIndex in range(100,130):    \n",
    "    rawkd = df_filtered['ReviewMeta'].iloc[textIndex]\n",
    "    uid = df_filtered['UserName'].iloc[textIndex]\n",
    "    userwise_delays[uid] = {}\n",
    "    \n",
    "    for phrase in phrases:\n",
    "        phrase_keys = get_phrases_from_rawkd(rawkd, phrase)    \n",
    "        all_delays = [keypress2delays(phrase, keys) for keys in phrase_keys]\n",
    "        userwise_delays[uid][phrase] = all_delays\n",
    "        phrasewise_delays[phrase].extend(all_delays)"
   ]
  },
  {
   "cell_type": "code",
   "execution_count": 5,
   "metadata": {},
   "outputs": [
    {
     "name": "stdout",
     "output_type": "stream",
     "text": [
      "criminal : 15\n",
      "constitution : 5\n",
      "amendment : 4\n",
      "fundamental : 0\n",
      "right : 25\n",
      "gun : 139\n",
      "control : 33\n",
      "safe : 12\n",
      "citizen : 16\n",
      "kill : 15\n",
      "violence : 9\n",
      "strongly : 2\n",
      "think : 3\n",
      "feel : 2\n",
      "legal : 10\n",
      "reason : 5\n",
      "fear : 1\n",
      "oppose : 1\n",
      "government : 14\n",
      "power : 0\n",
      "freedom : 10\n",
      "people : 46\n"
     ]
    }
   ],
   "source": [
    "for phrase in phrasewise_delays:\n",
    "    print (\"{} : {}\".format(phrase, len(phrasewise_delays[phrase])))"
   ]
  },
  {
   "cell_type": "code",
   "execution_count": 6,
   "metadata": {},
   "outputs": [],
   "source": [
    "import scipy.cluster.hierarchy as hc"
   ]
  },
  {
   "cell_type": "code",
   "execution_count": 7,
   "metadata": {},
   "outputs": [
    {
     "data": {
      "text/plain": [
       "(6, (5, 46), (5, 46))"
      ]
     },
     "execution_count": 7,
     "metadata": {},
     "output_type": "execute_result"
    }
   ],
   "source": [
    "word_of_interest = 'people'\n",
    "\n",
    "delay_sample_raw = phrasewise_delays[word_of_interest]\n",
    "delay_sample_cumul = [np.cumsum(x) for x in delay_sample_raw]\n",
    "\n",
    "delay_sample_raw = np.array(delay_sample_raw).transpose()\n",
    "delay_sample_cumul = np.array(delay_sample_cumul).transpose()\n",
    "\n",
    "len(word_of_interest), delay_sample_cumul.shape, delay_sample_raw.shape"
   ]
  },
  {
   "cell_type": "code",
   "execution_count": 8,
   "metadata": {},
   "outputs": [
    {
     "data": {
      "image/png": "[encoded data removed]",
      "text/plain": [
       "<Figure size 576x360 with 1 Axes>"
      ]
     },
     "metadata": {},
     "output_type": "display_data"
    }
   ],
   "source": [
    "dn = hc.dendrogram(hc.linkage(delay_sample_cumul, optimal_ordering=True), labels=word_of_interest)"
   ]
  },
  {
   "cell_type": "code",
   "execution_count": 9,
   "metadata": {},
   "outputs": [],
   "source": [
    "clus = xmeans(delay_sample_cumul)\n",
    "clus.process()\n",
    "clusterids = clus.get_clusters()"
   ]
  },
  {
   "cell_type": "code",
   "execution_count": 10,
   "metadata": {},
   "outputs": [
    {
     "data": {
      "text/plain": [
       "[[0], [1], [2], [3], [4]]"
      ]
     },
     "execution_count": 10,
     "metadata": {},
     "output_type": "execute_result"
    }
   ],
   "source": [
    "clusterids"
   ]
  },
  {
   "cell_type": "code",
   "execution_count": null,
   "metadata": {},
   "outputs": [],
   "source": []
  }
 ],
 "metadata": {
  "kernelspec": {
   "display_name": "Python 3",
   "language": "python",
   "name": "python3"
  },
  "language_info": {
   "codemirror_mode": {
    "name": "ipython",
    "version": 3
   },
   "file_extension": ".py",
   "mimetype": "text/x-python",
   "name": "python",
   "nbconvert_exporter": "python",
   "pygments_lexer": "ipython3",
   "version": "3.6.6"
  }
 },
 "nbformat": 4,
 "nbformat_minor": 2
}
