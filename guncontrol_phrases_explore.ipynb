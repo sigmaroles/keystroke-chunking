{
 "cells": [
  {
   "cell_type": "code",
   "execution_count": 13,
   "metadata": {},
   "outputs": [],
   "source": [
    "#from parse_kd import *\n",
    "import re\n",
    "import pandas as pd\n",
    "import numpy as np\n",
    "from chunk_utils import *\n",
    "import matplotlib\n",
    "import scipy.cluster.hierarchy as hc\n",
    "import matplotlib.pyplot as plt\n",
    "from pyclustering.cluster.xmeans import xmeans\n",
    "data_dir = './data/dw_freetext/'"
   ]
  },
  {
   "cell_type": "code",
   "execution_count": 2,
   "metadata": {},
   "outputs": [],
   "source": [
    "%load_ext autoreload\n",
    "%autoreload 2\n",
    "matplotlib.rcParams['figure.figsize'] = 8,5"
   ]
  },
  {
   "cell_type": "code",
   "execution_count": 3,
   "metadata": {},
   "outputs": [
    {
     "data": {
      "text/html": [
       "<div>\n",
       "<style scoped>\n",
       "    .dataframe tbody tr th:only-of-type {\n",
       "        vertical-align: middle;\n",
       "    }\n",
       "\n",
       "    .dataframe tbody tr th {\n",
       "        vertical-align: top;\n",
       "    }\n",
       "\n",
       "    .dataframe thead th {\n",
       "        text-align: right;\n",
       "    }\n",
       "</style>\n",
       "<table border=\"1\" class=\"dataframe\">\n",
       "  <thead>\n",
       "    <tr style=\"text-align: right;\">\n",
       "      <th></th>\n",
       "      <th>UserName</th>\n",
       "      <th>Task</th>\n",
       "      <th>ReviewMeta</th>\n",
       "    </tr>\n",
       "  </thead>\n",
       "  <tbody>\n",
       "    <tr>\n",
       "      <th>1</th>\n",
       "      <td>A10E8QHPV30BAD</td>\n",
       "      <td>Copy_2</td>\n",
       "      <td>0 MouseUp 0 0;874 KeyDown 16;946 KeyDown 73;10...</td>\n",
       "    </tr>\n",
       "    <tr>\n",
       "      <th>5</th>\n",
       "      <td>A11T1LGIWPM9Z1</td>\n",
       "      <td>Copy_2</td>\n",
       "      <td>0 MouseUp 0 0;784 KeyDown 16;863 KeyDown 84;92...</td>\n",
       "    </tr>\n",
       "    <tr>\n",
       "      <th>9</th>\n",
       "      <td>A145PJ769UGAID</td>\n",
       "      <td>Copy_2</td>\n",
       "      <td>0 MouseUp 0 0;1517 KeyDown 16;1517 KeyDown 87;...</td>\n",
       "    </tr>\n",
       "    <tr>\n",
       "      <th>13</th>\n",
       "      <td>A161NZP385W1TX</td>\n",
       "      <td>Copy_2</td>\n",
       "      <td>0 MouseUp 0 0;1621 KeyDown 16;1734 KeyDown 84;...</td>\n",
       "    </tr>\n",
       "    <tr>\n",
       "      <th>17</th>\n",
       "      <td>A168RQT8B18FH</td>\n",
       "      <td>Copy_2</td>\n",
       "      <td>0 MouseUp 0 0;2112 KeyDown 16;2311 KeyDown 73;...</td>\n",
       "    </tr>\n",
       "    <tr>\n",
       "      <th>21</th>\n",
       "      <td>A16HFBY06FP1RJ</td>\n",
       "      <td>Copy_2</td>\n",
       "      <td>0 MouseUp 0 0;317 KeyDown 16;543 KeyDown 71;62...</td>\n",
       "    </tr>\n",
       "    <tr>\n",
       "      <th>25</th>\n",
       "      <td>A191P01GHJRPWO</td>\n",
       "      <td>Copy_2</td>\n",
       "      <td>0 MouseUp 0 0;7007 KeyDown 16;7018 KeyDown 73;...</td>\n",
       "    </tr>\n",
       "  </tbody>\n",
       "</table>\n",
       "</div>"
      ],
      "text/plain": [
       "          UserName    Task                                         ReviewMeta\n",
       "1   A10E8QHPV30BAD  Copy_2  0 MouseUp 0 0;874 KeyDown 16;946 KeyDown 73;10...\n",
       "5   A11T1LGIWPM9Z1  Copy_2  0 MouseUp 0 0;784 KeyDown 16;863 KeyDown 84;92...\n",
       "9   A145PJ769UGAID  Copy_2  0 MouseUp 0 0;1517 KeyDown 16;1517 KeyDown 87;...\n",
       "13  A161NZP385W1TX  Copy_2  0 MouseUp 0 0;1621 KeyDown 16;1734 KeyDown 84;...\n",
       "17   A168RQT8B18FH  Copy_2  0 MouseUp 0 0;2112 KeyDown 16;2311 KeyDown 73;...\n",
       "21  A16HFBY06FP1RJ  Copy_2  0 MouseUp 0 0;317 KeyDown 16;543 KeyDown 71;62...\n",
       "25  A191P01GHJRPWO  Copy_2  0 MouseUp 0 0;7007 KeyDown 16;7018 KeyDown 73;..."
      ]
     },
     "execution_count": 3,
     "metadata": {},
     "output_type": "execute_result"
    }
   ],
   "source": [
    "df = pd.read_csv(data_dir+'GunControl_400.csv', delimiter='\\t', usecols=[0,6,10])\n",
    "df_filtered = df[df['Task']=='Copy_2']\n",
    "# \"Copy_2\" column = when they're stating true opinion, repeating (transcribing) the essay already written\n",
    "df_filtered.head(7)"
   ]
  },
  {
   "cell_type": "code",
   "execution_count": 11,
   "metadata": {},
   "outputs": [],
   "source": [
    "phrases = [\"criminal\", \"constitution\", \"amendment\", \"fundamental\", \"right\", \"gun\", \"control\", \n",
    "           \"safe\", \"citizen\", \"kill\", \"violence\", \"strongly\", \"think\", \"feel\", \n",
    "           \"legal\", \"reason\", \"fear\", \"oppose\", \"government\", \"power\", \n",
    "           \"freedom\", \"people\"\n",
    "          ]\n",
    "\n",
    "# dict of dicts -- examining at user level\n",
    "userwise_delays = {}\n",
    "# dict of lists --- examining at population level (throwing away user information)\n",
    "phrasewise_delays = {x:[] for x in phrases}\n",
    "\n",
    "for textIndex in range(df_filtered.shape[0]):\n",
    "#for textIndex in range(100,130):    \n",
    "    rawkd = df_filtered['ReviewMeta'].iloc[textIndex]\n",
    "    uid = df_filtered['UserName'].iloc[textIndex]\n",
    "    userwise_delays[uid] = {}\n",
    "    \n",
    "    for phrase in phrases:\n",
    "        phrase_keys = get_phrases_from_rawkd(rawkd, phrase)    \n",
    "        all_delays = [keypress2delays(phrase, keys) for keys in phrase_keys]\n",
    "        userwise_delays[uid][phrase] = all_delays\n",
    "        phrasewise_delays[phrase].extend(all_delays)"
   ]
  },
  {
   "cell_type": "code",
   "execution_count": 12,
   "metadata": {},
   "outputs": [
    {
     "name": "stdout",
     "output_type": "stream",
     "text": [
      "criminal : 198\n",
      "constitution : 98\n",
      "amendment : 72\n",
      "fundamental : 4\n",
      "right : 438\n",
      "gun : 1979\n",
      "control : 544\n",
      "safe : 155\n",
      "citizen : 202\n",
      "kill : 196\n",
      "violence : 115\n",
      "strongly : 8\n",
      "think : 82\n",
      "feel : 49\n",
      "legal : 110\n",
      "reason : 71\n",
      "fear : 15\n",
      "oppose : 38\n",
      "government : 145\n",
      "power : 47\n",
      "freedom : 64\n",
      "people : 572\n"
     ]
    }
   ],
   "source": [
    "for phrase in phrasewise_delays:\n",
    "    print (\"{} : {}\".format(phrase, len(phrasewise_delays[phrase])))"
   ]
  },
  {
   "cell_type": "code",
   "execution_count": 64,
   "metadata": {},
   "outputs": [],
   "source": [
    "word_of_interest = 'criminal'\n",
    "label = list(map(lambda x: x[0]+x[1], zip(word_of_interest, word_of_interest[1:])))\n",
    "\n",
    "delay_sample_raw = np.array(phrasewise_delays[word_of_interest])\n",
    "delay_sample_cumul = np.array([np.cumsum(x) for x in delay_sample_raw])"
   ]
  },
  {
   "cell_type": "code",
   "execution_count": 65,
   "metadata": {},
   "outputs": [
    {
     "data": {
      "image/png": "[encoded data removed]",
      "text/plain": [
       "<Figure size 576x360 with 1 Axes>"
      ]
     },
     "metadata": {},
     "output_type": "display_data"
    }
   ],
   "source": [
    "dn = hc.dendrogram(hc.linkage(delay_sample_raw.transpose(), optimal_ordering=True), labels=label)"
   ]
  },
  {
   "cell_type": "code",
   "execution_count": 66,
   "metadata": {},
   "outputs": [
    {
     "data": {
      "image/png": "[encoded data removed]",
      "text/plain": [
       "<Figure size 576x360 with 1 Axes>"
      ]
     },
     "metadata": {},
     "output_type": "display_data"
    }
   ],
   "source": [
    "dn = hc.dendrogram(hc.linkage(delay_sample_cumul.transpose(), optimal_ordering=True), labels=label)"
   ]
  },
  {
   "cell_type": "markdown",
   "metadata": {},
   "source": [
    "### xmeans clustering over population"
   ]
  },
  {
   "cell_type": "code",
   "execution_count": 71,
   "metadata": {},
   "outputs": [
    {
     "name": "stdout",
     "output_type": "stream",
     "text": [
      "criminal\n",
      "[35, 14, 44, 32, 1, 8, 35, 11, 18]\n",
      "constitution\n",
      "[23, 18, 19, 1, 23, 11, 1, 1, 1]\n",
      "amendment\n",
      "[10, 15, 24, 18, 5]\n",
      "fundamental\n",
      "[3, 1]\n",
      "right\n",
      "[96, 85, 58, 65, 47, 1, 30, 4, 33, 8, 10, 1]\n",
      "gun\n",
      "[1150, 627, 160, 36, 5, 1]\n",
      "control\n",
      "[326, 1, 1, 1, 135, 20, 60]\n",
      "safe\n",
      "[57, 27, 36, 1, 1, 24, 6, 1, 1, 1]\n",
      "citizen\n",
      "[51, 28, 16, 38, 35, 22, 10, 1, 1]\n",
      "kill\n",
      "[53, 58, 61, 17, 7]\n",
      "violence\n",
      "[53, 38, 4, 18, 1, 1]\n",
      "strongly\n",
      "[3, 1, 1, 3]\n",
      "think\n",
      "[15, 26, 20, 17, 4]\n",
      "feel\n",
      "[18, 24, 1, 6]\n",
      "legal\n",
      "[10, 6, 1, 22, 16, 32, 23]\n",
      "reason\n",
      "[18, 12, 24, 11, 4, 1, 1]\n",
      "fear\n",
      "[15]\n",
      "oppose\n",
      "[25, 9, 1, 1, 1, 1]\n",
      "government\n",
      "[27, 30, 22, 12, 1, 1, 1, 1, 17, 15, 12, 1, 5]\n",
      "power\n",
      "[9, 14, 1, 4, 15, 3, 1]\n",
      "freedom\n",
      "[31, 15, 14, 3, 1]\n",
      "people\n",
      "[39, 63, 18, 85, 117, 96, 8, 80, 1, 18, 32, 1, 13, 1]\n"
     ]
    }
   ],
   "source": [
    "# print number of samples in each discovered cluster\n",
    "for word_of_interest in phrases:\n",
    "    delay_sample_raw = np.array(phrasewise_delays[word_of_interest])\n",
    "    delay_sample_cumul = np.array([np.cumsum(x) for x in delay_sample_raw])\n",
    "    \n",
    "    clus = xmeans(delay_sample_cumul)\n",
    "    clus.process()\n",
    "    clusterids = clus.get_clusters()\n",
    "    print (word_of_interest)\n",
    "    lens = [len(x) for x in clusterids]\n",
    "    print (lens)\n",
    "        "
   ]
  },
  {
   "cell_type": "code",
   "execution_count": null,
   "metadata": {},
   "outputs": [],
   "source": []
  }
 ],
 "metadata": {
  "kernelspec": {
   "display_name": "Python 3",
   "language": "python",
   "name": "python3"
  },
  "language_info": {
   "codemirror_mode": {
    "name": "ipython",
    "version": 3
   },
   "file_extension": ".py",
   "mimetype": "text/x-python",
   "name": "python",
   "nbconvert_exporter": "python",
   "pygments_lexer": "ipython3",
   "version": "3.6.6"
  }
 },
 "nbformat": 4,
 "nbformat_minor": 2
}
