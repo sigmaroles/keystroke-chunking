{
 "cells": [
  {
   "cell_type": "code",
   "execution_count": 1,
   "metadata": {},
   "outputs": [],
   "source": [
    "import os\n",
    "import matplotlib\n",
    "import matplotlib.pyplot as plt\n",
    "import numpy as np\n",
    "import scipy.cluster.hierarchy as hc\n",
    "from pyclustering.cluster.xmeans import xmeans\n",
    "from chunk_utils import *\n",
    "data_dir = './data/names'\n",
    "image_dir = './images/'"
   ]
  },
  {
   "cell_type": "code",
   "execution_count": 2,
   "metadata": {},
   "outputs": [],
   "source": [
    "# basic init\n",
    "filenames = list(filter(lambda x: x.endswith('.kdt'), os.listdir(data_dir)))\n",
    "matplotlib.rcParams['figure.figsize'] = 8,5\n",
    "%load_ext autoreload\n",
    "%autoreload 2"
   ]
  },
  {
   "cell_type": "code",
   "execution_count": 3,
   "metadata": {},
   "outputs": [
    {
     "data": {
      "text/plain": [
       "(20, 'curb your enthusiasm', (19, 20), (19, 20))"
      ]
     },
     "execution_count": 3,
     "metadata": {},
     "output_type": "execute_result"
    }
   ],
   "source": [
    "with open(data_dir+'//'+filenames[4], 'r') as fh:\n",
    "    mydata = fh.read()\n",
    "typedname, rawkd = mydata.split('\\n')\n",
    "keypairs = list(map(lambda x: x[0]+x[1], zip(typedname, typedname[1:])))\n",
    "\n",
    "\n",
    "raw_delays = kdata2delaysOLD(typedname, rawkd)\n",
    "cumulative_delays = np.array([np.cumsum(delay1) for delay1 in raw_delays])\n",
    "\n",
    "\n",
    "raw_delays = raw_delays.transpose()\n",
    "cumulative_delays = cumulative_delays.transpose()\n",
    "\n",
    "len(typedname), typedname, raw_delays.shape, cumulative_delays.shape"
   ]
  },
  {
   "cell_type": "code",
   "execution_count": 4,
   "metadata": {},
   "outputs": [
    {
     "data": {
      "image/png": "[encoded data removed]",
      "text/plain": [
       "<Figure size 576x360 with 1 Axes>"
      ]
     },
     "metadata": {},
     "output_type": "display_data"
    }
   ],
   "source": [
    "zz1 = hc.linkage(raw_delays,'single')\n",
    "plt.title(typedname)\n",
    "dn = hc.dendrogram(zz1, labels=keypairs)"
   ]
  },
  {
   "cell_type": "code",
   "execution_count": 5,
   "metadata": {},
   "outputs": [
    {
     "data": {
      "text/plain": [
       "Text(0.5,1,'curb your enthusiasm')"
      ]
     },
     "execution_count": 5,
     "metadata": {},
     "output_type": "execute_result"
    },
    {
     "data": {
      "image/png": "[encoded data removed]",
      "text/plain": [
       "<Figure size 576x360 with 1 Axes>"
      ]
     },
     "metadata": {},
     "output_type": "display_data"
    }
   ],
   "source": [
    "zz2 = hc.linkage(cumulative_delays,'single')\n",
    "dn = hc.dendrogram(zz2, labels=keypairs)\n",
    "plt.title(typedname)"
   ]
  },
  {
   "cell_type": "code",
   "execution_count": 6,
   "metadata": {},
   "outputs": [],
   "source": [
    "clus = xmeans(cumulative_delays)\n",
    "clus.process()\n",
    "cluster_ids = clus.get_clusters()"
   ]
  },
  {
   "cell_type": "code",
   "execution_count": 7,
   "metadata": {},
   "outputs": [
    {
     "data": {
      "text/plain": [
       "14"
      ]
     },
     "execution_count": 7,
     "metadata": {},
     "output_type": "execute_result"
    }
   ],
   "source": [
    "len(cluster_ids)"
   ]
  },
  {
   "cell_type": "code",
   "execution_count": 8,
   "metadata": {},
   "outputs": [
    {
     "data": {
      "text/plain": [
       "[[0, 1, 2, 3],\n",
       " [4],\n",
       " [5],\n",
       " [6],\n",
       " [7],\n",
       " [8],\n",
       " [9],\n",
       " [10],\n",
       " [11],\n",
       " [12],\n",
       " [13],\n",
       " [14],\n",
       " [15],\n",
       " [16, 17, 18]]"
      ]
     },
     "execution_count": 8,
     "metadata": {},
     "output_type": "execute_result"
    }
   ],
   "source": [
    "cluster_ids"
   ]
  },
  {
   "cell_type": "code",
   "execution_count": 9,
   "metadata": {},
   "outputs": [],
   "source": [
    "centers = clus.get_centers()"
   ]
  },
  {
   "cell_type": "code",
   "execution_count": 10,
   "metadata": {},
   "outputs": [
    {
     "name": "stdout",
     "output_type": "stream",
     "text": [
      "20 [372.0, 337.0, 282.25, 314.0, 349.5, 304.5, 373.5, 272.0, 332.75, 283.25, 368.75, 292.5, 259.75, 298.25, 308.25, 330.0, 390.0, 371.0, 567.25, 204.0]\n",
      "20 [696.0, 760.0, 640.0, 720.0, 857.0, 637.0, 1069.0, 840.0, 676.0, 651.0, 1065.0, 587.0, 651.0, 692.0, 1273.0, 644.0, 1064.0, 843.0, 1212.0, 812.0]\n",
      "20 [876.0, 936.0, 824.0, 896.0, 1028.0, 820.0, 1252.0, 1012.0, 852.0, 819.0, 1262.0, 768.0, 852.0, 871.0, 1476.0, 841.0, 1248.0, 1040.0, 1400.0, 1004.0]\n",
      "20 [1008.0, 1072.0, 953.0, 1031.0, 1157.0, 949.0, 1373.0, 1131.0, 972.0, 952.0, 1390.0, 904.0, 995.0, 1011.0, 1616.0, 968.0, 1376.0, 1207.0, 1540.0, 1148.0]\n",
      "20 [1036.0, 1120.0, 1000.0, 1095.0, 1197.0, 1013.0, 1420.0, 1184.0, 1011.0, 984.0, 1453.0, 943.0, 1063.0, 1059.0, 1657.0, 1005.0, 1408.0, 1267.0, 1616.0, 1196.0]\n",
      "20 [1118.0, 1192.0, 1069.0, 1163.0, 1284.0, 1088.0, 1513.0, 1268.0, 1095.0, 1064.0, 1521.0, 1084.0, 1143.0, 1144.0, 1729.0, 1092.0, 1480.0, 1356.0, 1696.0, 1256.0]\n",
      "20 [1319.0, 2384.0, 1636.0, 2267.0, 1661.0, 1313.0, 1652.0, 1816.0, 1952.0, 1524.0, 1935.0, 1776.0, 2267.0, 1336.0, 1857.0, 1492.0, 1732.0, 1691.0, 2088.0, 1632.0]\n",
      "20 [1372.0, 2432.0, 1696.0, 2320.0, 1708.0, 1349.0, 1692.0, 1888.0, 2003.0, 1596.0, 1989.0, 1823.0, 2340.0, 1436.0, 1920.0, 1557.0, 1833.0, 1740.0, 2128.0, 1684.0]\n",
      "20 [1496.0, 2624.0, 1809.0, 2472.0, 1880.0, 1773.0, 1860.0, 1988.0, 2139.0, 1700.0, 2137.0, 1968.0, 2483.0, 1636.0, 2192.0, 1657.0, 1932.0, 1891.0, 2272.0, 1860.0]\n",
      "20 [1588.0, 2744.0, 1928.0, 2572.0, 1948.0, 1813.0, 1932.0, 2095.0, 2232.0, 2163.0, 2221.0, 2068.0, 2595.0, 1684.0, 2265.0, 1756.0, 2033.0, 1959.0, 2352.0, 1912.0]\n",
      "20 [1735.0, 2900.0, 2093.0, 2692.0, 2101.0, 1925.0, 2052.0, 2233.0, 2299.0, 2304.0, 2341.0, 2199.0, 2692.0, 1827.0, 2385.0, 1928.0, 2152.0, 2104.0, 2461.0, 2076.0]\n",
      "20 [1832.0, 3012.0, 2236.0, 2784.0, 2200.0, 2085.0, 2157.0, 2360.0, 2420.0, 2560.0, 2446.0, 2304.0, 2952.0, 1900.0, 2492.0, 2728.0, 2636.0, 2663.0, 3028.0, 2216.0]\n",
      "20 [1968.0, 3144.0, 2460.0, 3000.0, 2312.0, 2601.0, 2252.0, 2556.0, 2635.0, 2876.0, 2558.0, 2408.0, 3139.0, 2044.0, 2632.0, 2832.0, 2748.0, 2903.0, 3164.0, 2348.0]\n",
      "20 [2246.6666666666665, 3342.6666666666665, 2644.6666666666665, 3249.3333333333335, 2524.6666666666665, 2870.6666666666665, 2428.3333333333335, 2735.6666666666665, 2845.6666666666665, 3076.0, 2735.3333333333335, 2574.3333333333335, 3356.6666666666665, 2191.0, 2866.6666666666665, 3014.6666666666665, 2933.3333333333335, 3141.6666666666665, 3317.3333333333335, 2569.3333333333335]\n"
     ]
    }
   ],
   "source": [
    "for c in centers:\n",
    "    print (len(c), c)"
   ]
  },
  {
   "cell_type": "code",
   "execution_count": null,
   "metadata": {},
   "outputs": [],
   "source": []
  }
 ],
 "metadata": {
  "kernelspec": {
   "display_name": "Python 3",
   "language": "python",
   "name": "python3"
  },
  "language_info": {
   "codemirror_mode": {
    "name": "ipython",
    "version": 3
   },
   "file_extension": ".py",
   "mimetype": "text/x-python",
   "name": "python",
   "nbconvert_exporter": "python",
   "pygments_lexer": "ipython3",
   "version": "3.6.6"
  }
 },
 "nbformat": 4,
 "nbformat_minor": 2
}
