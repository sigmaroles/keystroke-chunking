{
 "cells": [
  {
   "cell_type": "code",
   "execution_count": 1,
   "metadata": {},
   "outputs": [],
   "source": [
    "import os\n",
    "import matplotlib\n",
    "import matplotlib.pyplot as plt\n",
    "import numpy as np\n",
    "import scipy.cluster.hierarchy as hc\n",
    "from chunk_utils import kdata2delays\n",
    "data_dir = './data/names'\n",
    "image_dir = './images/'"
   ]
  },
  {
   "cell_type": "code",
   "execution_count": 2,
   "metadata": {},
   "outputs": [],
   "source": [
    "# basic init\n",
    "filenames = list(filter(lambda x: x.endswith('.kdt'), os.listdir(data_dir)))\n",
    "matplotlib.rcParams['figure.figsize'] = 8,5"
   ]
  },
  {
   "cell_type": "code",
   "execution_count": 3,
   "metadata": {},
   "outputs": [
    {
     "data": {
      "text/plain": [
       "('sohhom bandyopadhyay', (20, 19))"
      ]
     },
     "execution_count": 3,
     "metadata": {},
     "output_type": "execute_result"
    }
   ],
   "source": [
    "with open(data_dir+'//'+filenames[2], 'r') as fh:\n",
    "    mydata = fh.read()\n",
    "typedname, rawkd = mydata.split('\\n')\n",
    "raw_delays = kdata2delays(typedname, rawkd)\n",
    "cumulative_delays = np.array([np.cumsum(delay1) for delay1 in raw_delays])\n",
    "typedname, raw_delays.shape"
   ]
  },
  {
   "cell_type": "code",
   "execution_count": 10,
   "metadata": {},
   "outputs": [
    {
     "data": {
      "image/png": "[encoded data removed]",
      "text/plain": [
       "<Figure size 576x360 with 1 Axes>"
      ]
     },
     "metadata": {},
     "output_type": "display_data"
    }
   ],
   "source": [
    "zz1 = hc.linkage(raw_delays,'single', optimal_ordering=True)\n",
    "#plt.figure()\n",
    "dn = hc.dendrogram(zz1)"
   ]
  },
  {
   "cell_type": "code",
   "execution_count": 5,
   "metadata": {},
   "outputs": [
    {
     "data": {
      "text/plain": [
       "array([[ 17.        ,  14.        ,  54.8452368 ,   2.        ],\n",
       "       [ 10.        ,  18.        ,  63.07138812,   2.        ],\n",
       "       [ 20.        ,   5.        ,  63.71812929,   3.        ],\n",
       "       [  7.        ,  22.        ,  64.03905059,   4.        ],\n",
       "       [  3.        ,  13.        ,  67.15653356,   2.        ],\n",
       "       [  6.        ,  21.        ,  67.94850992,   3.        ],\n",
       "       [ 23.        ,  24.        ,  70.66823898,   6.        ],\n",
       "       [ 26.        ,  25.        ,  73.11634564,   9.        ],\n",
       "       [ 27.        ,   2.        ,  76.18398782,  10.        ],\n",
       "       [ 16.        ,  28.        ,  77.26577509,  11.        ],\n",
       "       [  8.        ,  29.        ,  79.41032678,  12.        ],\n",
       "       [ 11.        ,   4.        ,  86.13942187,   2.        ],\n",
       "       [ 30.        ,   1.        ,  90.19423485,  13.        ],\n",
       "       [ 32.        ,   9.        ,  90.73036978,  14.        ],\n",
       "       [ 19.        ,  33.        ,  95.79665965,  15.        ],\n",
       "       [  0.        ,  31.        , 109.0733698 ,   3.        ],\n",
       "       [ 12.        ,  34.        , 121.19405926,  16.        ],\n",
       "       [ 35.        ,  36.        , 139.26952287,  19.        ],\n",
       "       [ 15.        ,  37.        , 297.93287835,  20.        ]])"
      ]
     },
     "execution_count": 5,
     "metadata": {},
     "output_type": "execute_result"
    }
   ],
   "source": [
    "zz1"
   ]
  },
  {
   "cell_type": "code",
   "execution_count": 6,
   "metadata": {},
   "outputs": [
    {
     "data": {
      "image/png": "[encoded data removed]",
      "text/plain": [
       "<Figure size 576x360 with 1 Axes>"
      ]
     },
     "metadata": {},
     "output_type": "display_data"
    }
   ],
   "source": [
    "zz2 = hc.linkage(cumulative_delays,'single', optimal_ordering=True)\n",
    "#plt.figure()\n",
    "dn = hc.dendrogram(zz2)"
   ]
  },
  {
   "cell_type": "code",
   "execution_count": 7,
   "metadata": {},
   "outputs": [
    {
     "data": {
      "text/plain": [
       "array([[  1.        ,   2.        ,  65.96211034,   2.        ],\n",
       "       [ 18.        ,  10.        ,  70.46275612,   2.        ],\n",
       "       [  8.        ,  13.        ,  79.51729372,   2.        ],\n",
       "       [ 16.        ,  17.        ,  80.79603951,   2.        ],\n",
       "       [  6.        ,   5.        ,  81.49233093,   2.        ],\n",
       "       [ 23.        ,  14.        ,  83.52245207,   3.        ],\n",
       "       [ 22.        ,   3.        ,  83.82720322,   3.        ],\n",
       "       [ 26.        ,  25.        ,  84.14273587,   6.        ],\n",
       "       [ 24.        ,  21.        ,  84.66404195,   4.        ],\n",
       "       [  9.        ,  20.        , 110.01818032,   3.        ],\n",
       "       [ 29.        ,  27.        , 110.27239002,   9.        ],\n",
       "       [  4.        ,  11.        , 111.85258155,   2.        ],\n",
       "       [ 30.        ,  28.        , 113.91224693,  13.        ],\n",
       "       [ 32.        ,  12.        , 116.7818479 ,  14.        ],\n",
       "       [ 19.        ,  33.        , 184.06248939,  15.        ],\n",
       "       [  7.        ,  34.        , 258.27504719,  16.        ],\n",
       "       [ 35.        ,  15.        , 295.864834  ,  17.        ],\n",
       "       [ 31.        ,   0.        , 378.18249563,   3.        ],\n",
       "       [ 36.        ,  37.        , 660.81010888,  20.        ]])"
      ]
     },
     "execution_count": 7,
     "metadata": {},
     "output_type": "execute_result"
    }
   ],
   "source": [
    "zz2"
   ]
  },
  {
   "cell_type": "code",
   "execution_count": null,
   "metadata": {},
   "outputs": [],
   "source": []
  },
  {
   "cell_type": "code",
   "execution_count": null,
   "metadata": {},
   "outputs": [],
   "source": []
  }
 ],
 "metadata": {
  "kernelspec": {
   "display_name": "Python 3",
   "language": "python",
   "name": "python3"
  },
  "language_info": {
   "codemirror_mode": {
    "name": "ipython",
    "version": 3
   },
   "file_extension": ".py",
   "mimetype": "text/x-python",
   "name": "python",
   "nbconvert_exporter": "python",
   "pygments_lexer": "ipython3",
   "version": "3.6.6"
  }
 },
 "nbformat": 4,
 "nbformat_minor": 2
}
