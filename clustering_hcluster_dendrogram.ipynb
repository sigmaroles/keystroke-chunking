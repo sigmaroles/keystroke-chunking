{
 "cells": [
  {
   "cell_type": "code",
   "execution_count": 1,
   "metadata": {},
   "outputs": [],
   "source": [
    "import os\n",
    "import matplotlib\n",
    "import matplotlib.pyplot as plt\n",
    "import numpy as np\n",
    "import scipy.cluster.hierarchy as hc\n",
    "from pyclustering.cluster.xmeans import xmeans\n",
    "from chunk_utils import *\n",
    "data_dir = './data/names'\n",
    "image_dir = './images/'"
   ]
  },
  {
   "cell_type": "code",
   "execution_count": 2,
   "metadata": {},
   "outputs": [],
   "source": [
    "# basic init\n",
    "filenames = list(filter(lambda x: x.endswith('.kdt'), os.listdir(data_dir)))\n",
    "matplotlib.rcParams['figure.figsize'] = 8,5\n",
    "%load_ext autoreload\n",
    "%autoreload 2"
   ]
  },
  {
   "cell_type": "code",
   "execution_count": 3,
   "metadata": {},
   "outputs": [
    {
     "data": {
      "text/plain": [
       "(11, 'Sreekanth C', (10, 20), (10, 20))"
      ]
     },
     "execution_count": 3,
     "metadata": {},
     "output_type": "execute_result"
    }
   ],
   "source": [
    "with open(data_dir+'//'+filenames[11], 'r') as fh:\n",
    "    mydata = fh.read()\n",
    "typedname, rawkd = mydata.split('\\n')\n",
    "raw_delays = kdata2delaysOLD(typedname, rawkd)\n",
    "cumulative_delays = np.array([np.cumsum(delay1) for delay1 in raw_delays])\n",
    "\n",
    "\n",
    "raw_delays = raw_delays.transpose()\n",
    "cumulative_delays = cumulative_delays.transpose()\n",
    "\n",
    "len(typedname), typedname, raw_delays.shape, cumulative_delays.shape"
   ]
  },
  {
   "cell_type": "code",
   "execution_count": 4,
   "metadata": {},
   "outputs": [
    {
     "data": {
      "image/png": "[encoded data removed]",
      "text/plain": [
       "<Figure size 576x360 with 1 Axes>"
      ]
     },
     "metadata": {},
     "output_type": "display_data"
    }
   ],
   "source": [
    "zz1 = hc.linkage(raw_delays,'single', optimal_ordering=False)\n",
    "dn = hc.dendrogram(zz1, labels=typedname)"
   ]
  },
  {
   "cell_type": "code",
   "execution_count": 5,
   "metadata": {},
   "outputs": [
    {
     "data": {
      "image/png": "[encoded data removed]",
      "text/plain": [
       "<Figure size 576x360 with 1 Axes>"
      ]
     },
     "metadata": {},
     "output_type": "display_data"
    }
   ],
   "source": [
    "zz2 = hc.linkage(cumulative_delays,'single', optimal_ordering=True)\n",
    "dn = hc.dendrogram(zz2, labels=typedname)"
   ]
  },
  {
   "cell_type": "code",
   "execution_count": 6,
   "metadata": {},
   "outputs": [],
   "source": [
    "clus = xmeans(cumulative_delays)\n",
    "clus.process()\n",
    "cluster_ids = clus.get_clusters()"
   ]
  },
  {
   "cell_type": "code",
   "execution_count": 7,
   "metadata": {},
   "outputs": [
    {
     "data": {
      "text/plain": [
       "6"
      ]
     },
     "execution_count": 7,
     "metadata": {},
     "output_type": "execute_result"
    }
   ],
   "source": [
    "len(cluster_ids)"
   ]
  },
  {
   "cell_type": "code",
   "execution_count": 8,
   "metadata": {},
   "outputs": [
    {
     "data": {
      "text/plain": [
       "[[0, 1, 2], [3], [4], [5], [6, 7, 8], [9]]"
      ]
     },
     "execution_count": 8,
     "metadata": {},
     "output_type": "execute_result"
    }
   ],
   "source": [
    "cluster_ids"
   ]
  },
  {
   "cell_type": "code",
   "execution_count": 9,
   "metadata": {},
   "outputs": [],
   "source": [
    "centers = clus.get_centers()"
   ]
  },
  {
   "cell_type": "code",
   "execution_count": 10,
   "metadata": {},
   "outputs": [
    {
     "name": "stdout",
     "output_type": "stream",
     "text": [
      "20 [526.3333333333334, 564.3333333333334, 510.0, 565.6666666666666, 547.6666666666666, 513.3333333333334, 500.0, 479.3333333333333, 483.3333333333333, 591.3333333333334, 528.6666666666666, 609.3333333333334, 486.3333333333333, 526.0, 476.6666666666667, 504.6666666666667, 526.3333333333334, 529.0, 528.0, 525.6666666666666]\n",
      "20 [1476.0, 1397.0, 1305.0, 1438.0, 1431.0, 1430.0, 1327.0, 1579.0, 1312.0, 1454.0, 1359.0, 1688.0, 1516.0, 1297.0, 1258.0, 1266.0, 1312.0, 2079.0, 1304.0, 1383.0]\n",
      "20 [1704.0, 1546.0, 1453.0, 1579.0, 1564.0, 1570.0, 1453.0, 1712.0, 1437.0, 1609.0, 1508.0, 1820.0, 1671.0, 1398.0, 1392.0, 1383.0, 1422.0, 2274.0, 1422.0, 1500.0]\n",
      "20 [1906.0, 1733.0, 2265.0, 1743.0, 2228.0, 1742.0, 1616.0, 1876.0, 1664.0, 1765.0, 1649.0, 1985.0, 1867.0, 1571.0, 1547.0, 1540.0, 1579.0, 2532.0, 1593.0, 1734.0]\n",
      "20 [2403.6666666666665, 2221.0, 2767.6666666666665, 2248.0, 2750.6666666666665, 2283.6666666666665, 2138.0, 2373.3333333333335, 2174.3333333333335, 2291.3333333333335, 2140.3333333333335, 2479.6666666666665, 2366.6666666666665, 2047.0, 2052.0, 2060.3333333333335, 2094.0, 3045.0, 2114.3333333333335, 2293.6666666666665]\n",
      "20 [2914.0, 2750.0, 3289.0, 2774.0, 4383.0, 2844.0, 2688.0, 2852.0, 2672.0, 2813.0, 2632.0, 2977.0, 2843.0, 2531.0, 2500.0, 2563.0, 2632.0, 4586.0, 2844.0, 2773.0]\n"
     ]
    }
   ],
   "source": [
    "for c in centers:\n",
    "    print (len(c), c)"
   ]
  },
  {
   "cell_type": "code",
   "execution_count": null,
   "metadata": {},
   "outputs": [],
   "source": []
  }
 ],
 "metadata": {
  "kernelspec": {
   "display_name": "Python 3",
   "language": "python",
   "name": "python3"
  },
  "language_info": {
   "codemirror_mode": {
    "name": "ipython",
    "version": 3
   },
   "file_extension": ".py",
   "mimetype": "text/x-python",
   "name": "python",
   "nbconvert_exporter": "python",
   "pygments_lexer": "ipython3",
   "version": "3.6.6"
  }
 },
 "nbformat": 4,
 "nbformat_minor": 2
}
