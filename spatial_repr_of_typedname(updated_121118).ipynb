{
 "cells": [
  {
   "cell_type": "code",
   "execution_count": 10,
   "metadata": {},
   "outputs": [],
   "source": [
    "import os\n",
    "import matplotlib\n",
    "import matplotlib.pyplot as plt\n",
    "import numpy as np\n",
    "data_dir = './data/names'\n",
    "image_dir = './images/'"
   ]
  },
  {
   "cell_type": "code",
   "execution_count": 11,
   "metadata": {},
   "outputs": [
    {
     "name": "stdout",
     "output_type": "stream",
     "text": [
      "The autoreload extension is already loaded. To reload it, use:\n",
      "  %reload_ext autoreload\n"
     ]
    }
   ],
   "source": [
    "%load_ext autoreload\n",
    "%autoreload 2"
   ]
  },
  {
   "cell_type": "code",
   "execution_count": 12,
   "metadata": {},
   "outputs": [],
   "source": [
    "# basic init\n",
    "filenames = list(filter(lambda x: x.endswith('.kdt'), os.listdir(data_dir)))\n",
    "matplotlib.rcParams['figure.figsize'] = 24,15"
   ]
  },
  {
   "cell_type": "code",
   "execution_count": 13,
   "metadata": {},
   "outputs": [],
   "source": [
    "from chunk_utils import *"
   ]
  },
  {
   "cell_type": "code",
   "execution_count": 25,
   "metadata": {},
   "outputs": [
    {
     "name": "stdout",
     "output_type": "stream",
     "text": [
      "nithin_george 21\n",
      "Vaishnavi_Sunil_Patil 20\n",
      "sohhom_bandyopadhyay 20\n",
      "GRACE_HAOKIP 20\n",
      "curb_your_enthusiasm 20\n",
      "Bharatesh_Shiraguppi 20\n",
      "Lakshman_Chakrav 21\n",
      "dyutiman_mukhopadhyay 20\n",
      "unnati_palan 20\n",
      "SHRUTI_GOYAL 20\n",
      "after_careful_consideration 20\n",
      "Sreekanth_C 20\n",
      "jagini_kishore_kumar 20\n",
      "Megha_Sanyal 20\n",
      "Archit_Sunat 20\n",
      "Pranjali_Shrikant_Kulkarni 20\n",
      "keystroke_dynamics 20\n",
      "Vishav_Jyoti 20\n",
      "ashish_joseph 20\n",
      "Rachit_Chhaya 20\n",
      "manasi_wali 20\n",
      "somdotta_mukherjee 20\n",
      "Taronish_Pastakia 23\n",
      "jyoti_bandyopadhyay 20\n",
      "Goldy_Yadav 20\n",
      "krishna_prasad_miyapuram 20\n",
      "narmadha_nagaraj 20\n",
      "midhula_chandran 20\n",
      "Khobragade_Prateek 20\n",
      "jitesh_shaw 20\n",
      "ABHISHEK_SAHAI 20\n",
      "psychoacoustics_conference 20\n",
      "Veli_Mehta 20\n",
      "Vinal_Patel 20\n"
     ]
    }
   ],
   "source": [
    "# main program\n",
    "\n",
    "for fn in filenames:\n",
    "    ypos = 0.01\n",
    "    ydelta = 0.0317\n",
    "\n",
    "    with open(data_dir+'//'+fn, 'r') as fh:\n",
    "        filedata = fh.read()\n",
    "    typedname, rawkd = filedata.split('\\n')\n",
    "    n_chars = len(typedname)\n",
    "    \n",
    "    name_keys = get_phrases_from_rawkd(rawkd, typedname.lower())    \n",
    "    delays = [keypress2delays(typedname, keys) for keys in name_keys]\n",
    "    \n",
    "    typedname = typedname.replace(' ', '_')\n",
    "    print (typedname, len(delays))\n",
    "    \n",
    "    # got the delays, now plot them\n",
    "    for dd in delays:\n",
    "        xposvector = get_xpos_from_delays(dd, space_min = 0.006, max_delta_spacing=0.05)\n",
    "        for char, xpos in zip(typedname, xposvector):\n",
    "            plt.text(xpos, ypos + ydelta, char, fontsize=22)\n",
    "        ypos += ydelta\n",
    "\n",
    "    plt.tight_layout()\n",
    "    plt.savefig(\".//images//testt_spatial_plot_\" + typedname + \"_.svg\", format='svg')\n",
    "    plt.close()\n",
    "    \n",
    "    "
   ]
  },
  {
   "cell_type": "code",
   "execution_count": 19,
   "metadata": {},
   "outputs": [
    {
     "data": {
      "text/plain": [
       "'6301 KeyDown 86;6406 KeyUp 86;6449 KeyUp 16;6589 KeyDown 73;6691 KeyUp 73;6742 KeyDown 78;6834 KeyUp 78;6854 KeyDown 65;6964 KeyUp 65;7068 KeyDown 76;7152 KeyUp 76;7644 KeyUp 16;8452 KeyDown 32;8579 KeyUp 32;9247 KeyDown 80;9276 KeyUp 16;9352 KeyUp 80;9436 KeyDown 65;9575 KeyUp 65;9696 KeyDown 84;9806 KeyDown 69;9825 KeyUp 84;9920 KeyUp 69;10039 KeyDown 76;10125 KeyUp 76;10375 KeyDown 13;11070 KeyDown 86;11135 KeyUp 16;11163 KeyUp 86;11340 KeyDown 73;11442 KeyUp 73;11524 KeyDown 78;11603 KeyUp 78;11668 KeyDown 65;11784 KeyUp 65;11832 KeyDown 76;11914 KeyUp 76;12016 KeyDown 32;12115 KeyUp 32;12349 KeyDown 80;12402 KeyUp 16;12445 KeyUp 80;12538 KeyDown 65;12664 KeyUp 65;12792 KeyDown 84;12921 KeyDown 69;12927 KeyUp 84;13035 KeyUp 69;13102 KeyDown 76;13181 KeyUp 76;13521 KeyDown 13;14275 KeyDown 86;14341 KeyUp 16;14347 KeyUp 86;14581 KeyDown 73;14693 KeyUp 73;14752 KeyDown 78;14857 KeyUp 78;14893 KeyDown 65;15019 KeyUp 65;15054 KeyDown 76;15147 KeyUp 76;15245 KeyDown 32;15348 KeyUp 32;15841 KeyDown 80;15925 KeyUp 16;15945 KeyUp 80;16060 KeyDown 65;16206 KeyUp 65;16335 KeyDown 84;16456 KeyDown 69;16476 KeyUp 84;16561 KeyUp 69;16616 KeyDown 76;16711 KeyUp 76;16964 KeyDown 13;17719 KeyDown 86;17801 KeyUp 86;17834 KeyUp 16;18032 KeyDown 73;18141 KeyUp 73;18197 KeyDown 78;18291 KeyUp 78;18340 KeyDown 65;18459 KeyUp 65;18506 KeyDown 76;18604 KeyUp 76;18640 KeyDown 32;18749 KeyUp 32;18963 KeyDown 80;19002 KeyUp 16;19071 KeyUp 80;19140 KeyDown 65;19271 KeyUp 65;19359 KeyDown 84;19497 KeyDown 69;19530 KeyUp 84;19629 KeyUp 69;19755 KeyDown 76;19887 KeyUp 76;20175 KeyDown 13;20740 KeyDown 86;20798 KeyUp 16;20834 KeyUp 86;21427 KeyDown 73;21526 KeyUp 73;21625 KeyDown 78;21710 KeyUp 78;21753 KeyDown 65;21876 KeyUp 65;21906 KeyDown 76;21986 KeyUp 76;22092 KeyDown 32;22201 KeyUp 32;22443 KeyDown 80;22522 KeyUp 16;22552 KeyUp 80;22656 KeyDown 65;22790 KeyUp 65;22880 KeyDown 84;23005 KeyUp 84;23009 KeyDown 69;23124 KeyUp 69;23177 KeyDown 76;23292 KeyUp 76;23558 KeyDown 13;24141 KeyDown 86;24220 KeyUp 16;24223 KeyUp 86;24448 KeyDown 73;24592 KeyUp 73;24691 KeyDown 78;24783 KeyUp 78;24823 KeyDown 65;24944 KeyUp 65;24968 KeyDown 76;25077 KeyUp 76;25136 KeyDown 32;25255 KeyUp 32;25462 KeyDown 80;25502 KeyUp 16;25574 KeyUp 80;25637 KeyDown 65;25789 KeyUp 65;25910 KeyDown 84;26043 KeyDown 69;26062 KeyUp 84;26166 KeyUp 69;26209 KeyDown 76;26308 KeyUp 76;26581 KeyDown 13;27087 KeyDown 86;27173 KeyUp 16;27192 KeyUp 86;27366 KeyDown 73;27519 KeyUp 73;27575 KeyDown 78;27667 KeyUp 78;27744 KeyDown 65;27865 KeyUp 65;27880 KeyDown 76;28002 KeyUp 76;28095 KeyDown 32;28199 KeyUp 32;28445 KeyDown 80;28491 KeyUp 16;28545 KeyUp 80;28643 KeyDown 65;28800 KeyUp 65;29291 KeyDown 84;29421 KeyDown 69;29424 KeyUp 84;29539 KeyUp 69;30520 KeyDown 76;30603 KeyUp 76;30826 KeyDown 13;31437 KeyDown 86;31516 KeyUp 16;31526 KeyUp 86;31712 KeyDown 73;31807 KeyUp 73;31882 KeyDown 78;31975 KeyUp 78;32038 KeyDown 65;32152 KeyUp 65;32175 KeyDown 76;32264 KeyUp 76;32321 KeyDown 32;32439 KeyUp 32;32635 KeyDown 80;32664 KeyUp 16;32717 KeyUp 80;32783 KeyDown 65;32913 KeyUp 65;33065 KeyDown 84;33183 KeyDown 69;33204 KeyUp 84;33302 KeyUp 69;33360 KeyDown 76;33458 KeyUp 76;33703 KeyDown 13;34251 KeyDown 86;34334 KeyUp 16;34343 KeyUp 86;34522 KeyDown 73;34613 KeyUp 73;34714 KeyDown 78;34796 KeyUp 78;34847 KeyDown 65;34971 KeyUp 65;35013 KeyDown 76;35092 KeyUp 76;35152 KeyDown 32;35254 KeyUp 32;35482 KeyDown 80;35528 KeyUp 16;35587 KeyUp 80;35644 KeyDown 65;35782 KeyUp 65;35878 KeyDown 84;36013 KeyDown 69;36036 KeyUp 84;36141 KeyUp 69;36170 KeyDown 76;36265 KeyUp 76;36530 KeyDown 13;37059 KeyDown 86;37149 KeyUp 16;37169 KeyUp 86;37338 KeyDown 73;37432 KeyUp 73;37501 KeyDown 78;37612 KeyUp 78;37678 KeyDown 65;37803 KeyUp 65;37842 KeyDown 76;37917 KeyUp 76;37972 KeyDown 32;38074 KeyUp 32;38283 KeyDown 80;38336 KeyUp 16;38386 KeyUp 80;38466 KeyDown 65;38618 KeyUp 65;38694 KeyDown 84;38809 KeyDown 69;38845 KeyUp 84;38956 KeyUp 69;39010 KeyDown 76;39099 KeyUp 76;39392 KeyDown 13;40002 KeyDown 86;40095 KeyUp 86;40102 KeyUp 16;40295 KeyDown 73;40385 KeyUp 73;40463 KeyDown 78;40545 KeyUp 78;40604 KeyDown 65;40719 KeyUp 65;40744 KeyDown 76;40824 KeyUp 76;40886 KeyDown 32;40991 KeyUp 32;41183 KeyDown 80;41222 KeyUp 16;41278 KeyUp 80;41363 KeyDown 65;41498 KeyUp 65;41598 KeyDown 84;41715 KeyDown 69;41742 KeyUp 84;41847 KeyUp 69;41910 KeyDown 76;42012 KeyUp 76;42625 KeyDown 13;44245 KeyDown 86;44347 KeyUp 86;44409 KeyUp 16;44834 KeyDown 73;44906 KeyUp 73;45029 KeyDown 78;45105 KeyUp 78;45174 KeyDown 65;45294 KeyUp 65;45331 KeyDown 76;45430 KeyUp 76;45482 KeyDown 32;45605 KeyUp 32;45779 KeyDown 80;45839 KeyUp 16;45902 KeyUp 80;45954 KeyDown 65;46098 KeyUp 65;46200 KeyDown 84;46309 KeyDown 69;46316 KeyUp 84;46424 KeyUp 69;46478 KeyDown 76;46579 KeyUp 76;46784 KeyDown 13;47319 KeyDown 86;47408 KeyUp 16;47424 KeyUp 86;47585 KeyDown 73;47680 KeyUp 73;47749 KeyDown 78;47850 KeyUp 78;47922 KeyDown 65;48048 KeyUp 65;48102 KeyDown 76;48171 KeyDown 32;48174 KeyUp 76;48279 KeyUp 32;48517 KeyDown 80;48581 KeyUp 16;48630 KeyUp 80;48717 KeyDown 65;48911 KeyUp 65;49433 KeyDown 84;49564 KeyDown 69;49567 KeyUp 84;49679 KeyUp 69;49750 KeyDown 76;49857 KeyUp 76;50081 KeyDown 13;50728 KeyDown 86;50807 KeyUp 16;50816 KeyUp 86;50953 KeyDown 73;51036 KeyUp 73;51107 KeyDown 78;51212 KeyUp 78;51315 KeyDown 65;51436 KeyUp 65;51469 KeyDown 76;51554 KeyUp 76;51609 KeyDown 32;51711 KeyUp 32;51976 KeyDown 80;52031 KeyUp 16;52084 KeyUp 80;52175 KeyDown 65;52296 KeyUp 65;52382 KeyDown 84;52487 KeyDown 69;52520 KeyUp 84;52615 KeyUp 69;52667 KeyDown 76;52762 KeyUp 76;53012 KeyDown 13;53529 KeyDown 86;53625 KeyUp 86;53635 KeyUp 16;53786 KeyDown 73;53871 KeyUp 73;53963 KeyDown 78;54050 KeyUp 78;54137 KeyDown 65;54262 KeyUp 65;54298 KeyDown 76;54370 KeyUp 76;54425 KeyDown 32;54543 KeyUp 32;54744 KeyDown 80;54797 KeyUp 16;54849 KeyUp 80;54915 KeyDown 65;55053 KeyUp 65;55176 KeyDown 84;55281 KeyDown 69;55317 KeyUp 84;55407 KeyUp 69;55474 KeyDown 76;55560 KeyUp 76;55855 KeyDown 13;56663 KeyDown 86;56735 KeyUp 16;56736 KeyUp 86;56889 KeyDown 73;56983 KeyUp 73;57064 KeyDown 78;57165 KeyUp 78;57225 KeyDown 65;57390 KeyUp 65;57392 KeyDown 76;57478 KeyUp 76;58164 KeyDown 32;58292 KeyUp 32;58532 KeyDown 80;58601 KeyUp 80;58608 KeyUp 16;58967 KeyDown 65;59089 KeyUp 65;59419 KeyDown 84;59537 KeyDown 69;59550 KeyUp 84;59656 KeyUp 69;59778 KeyDown 76;59867 KeyUp 76;60126 KeyDown 13;76423 KeyUp 8;78549 KeyDown 86;78638 KeyUp 86;78651 KeyUp 16;78908 KeyDown 73;79014 KeyUp 73;79083 KeyDown 78;79158 KeyUp 78;79220 KeyDown 65;79351 KeyUp 65;79413 KeyDown 76;79492 KeyUp 76;79676 KeyDown 32;79791 KeyUp 32;80294 KeyDown 80;80351 KeyUp 16;80371 KeyUp 80;80486 KeyDown 65;80620 KeyUp 65;80681 KeyDown 84;80778 KeyDown 69;80801 KeyUp 84;80893 KeyUp 69;80943 KeyDown 76;81023 KeyUp 76;81233 KeyDown 13;82105 KeyDown 86;82159 KeyUp 16;82198 KeyUp 86;82330 KeyDown 73;82445 KeyUp 73;82540 KeyDown 78;82629 KeyUp 78;82702 KeyDown 65;82839 KeyUp 65;82880 KeyDown 76;82969 KeyUp 76;83069 KeyDown 32;83184 KeyUp 32;83399 KeyDown 80;83488 KeyUp 16;83508 KeyUp 80;83606 KeyDown 65;83734 KeyUp 65;83998 KeyDown 84;84113 KeyUp 84;84121 KeyDown 69;84246 KeyUp 69;84326 KeyDown 76;84411 KeyUp 76;84628 KeyDown 13;85431 KeyDown 86;85500 KeyUp 16;85503 KeyUp 86;85659 KeyDown 73;85747 KeyUp 73;85858 KeyDown 78;85927 KeyUp 78;85967 KeyDown 65;86116 KeyUp 65;86144 KeyDown 76;86227 KeyUp 76;86294 KeyDown 32;86407 KeyUp 32;86580 KeyDown 80;86663 KeyUp 16;86699 KeyUp 80;86810 KeyDown 65;86938 KeyUp 65;87147 KeyDown 84;87276 KeyDown 69;87289 KeyUp 84;87391 KeyUp 69;87439 KeyDown 76;87521 KeyUp 76;87746 KeyDown 13;88324 KeyDown 86;88383 KeyUp 16;88420 KeyUp 86;88552 KeyDown 73;88639 KeyUp 73;88737 KeyDown 78;88815 KeyUp 78;88909 KeyDown 65;89027 KeyUp 65;89060 KeyDown 76;89140 KeyUp 76;89221 KeyDown 32;89333 KeyUp 32;89450 KeyDown 80;89539 KeyUp 80;89547 KeyUp 16;90820 KeyDown 65;90925 KeyUp 65;91029 KeyDown 84;91162 KeyDown 69;91185 KeyUp 84;91287 KeyUp 69;91405 KeyDown 76;91480 KeyUp 76;91895 KeyDown 13;'"
      ]
     },
     "execution_count": 19,
     "metadata": {},
     "output_type": "execute_result"
    }
   ],
   "source": [
    "rawkd"
   ]
  },
  {
   "cell_type": "code",
   "execution_count": null,
   "metadata": {},
   "outputs": [],
   "source": []
  }
 ],
 "metadata": {
  "kernelspec": {
   "display_name": "Python 3",
   "language": "python",
   "name": "python3"
  },
  "language_info": {
   "codemirror_mode": {
    "name": "ipython",
    "version": 3
   },
   "file_extension": ".py",
   "mimetype": "text/x-python",
   "name": "python",
   "nbconvert_exporter": "python",
   "pygments_lexer": "ipython3",
   "version": "3.6.6"
  }
 },
 "nbformat": 4,
 "nbformat_minor": 2
}
